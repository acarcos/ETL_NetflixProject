{
 "cells": [
  {
   "cell_type": "markdown",
   "metadata": {},
   "source": [
    "## Data Cleanup & Analysis\n",
    "\n",
    "* We performed ETL (Extract Transform Load)  from a Netflix database obtained from Kaggle (https://www.kaggle.com/shivamb/netflix-shows/version/3). Since the database already give us the title and the cast, we made a similar database but with the actor/actress and all the movie titles they appear. We used Python to clean and prepare the data. We made three datasets to save the cast with an id number, titles with their show id (already given) and a new set with the separated cast and the movie title they appear. These datasets are exported to SQL and we made a new database to visualize each actor/actress and their respective movie titles. "
   ]
  },
  {
   "cell_type": "code",
   "execution_count": null,
   "metadata": {},
   "outputs": [],
   "source": [
    "# Import libraries\n",
    "import pandas as pd\n",
    "import numpy as np\n",
    "from sqlalchemy import create_engine"
   ]
  },
  {
   "cell_type": "code",
   "execution_count": null,
   "metadata": {},
   "outputs": [],
   "source": [
    "# Import csv data and visualize how is the information\n",
    "file = \"netflix_titles.csv\"\n",
    "data = pd.read_csv(file)\n",
    "data.head()"
   ]
  },
  {
   "cell_type": "markdown",
   "metadata": {},
   "source": [
    "#### We observed that the data has some missing (NaN) values. To load this information into SQL we removed these values. Also, the column names have an acceptable format, so we kept the information."
   ]
  },
  {
   "cell_type": "code",
   "execution_count": null,
   "metadata": {},
   "outputs": [],
   "source": [
    "# Delete NaN values\n",
    "clean_data = data.replace(np.NaN)"
   ]
  },
  {
   "cell_type": "markdown",
   "metadata": {},
   "source": [
    "#### We analyzed only the movie titles, so we extracted these information."
   ]
  },
  {
   "cell_type": "code",
   "execution_count": null,
   "metadata": {},
   "outputs": [],
   "source": [
    "# Only get the Movies data and visualize the information\n",
    "movies_cast = clean_data[clean_data[\"type\"] == 'Movie']\n",
    "movies_cast"
   ]
  },
  {
   "cell_type": "markdown",
   "metadata": {},
   "source": [
    "#### Now that the data is ready we got all the actors and actress appering in each title. We used the split function to separate all cast and saved the information on a list."
   ]
  },
  {
   "cell_type": "code",
   "execution_count": null,
   "metadata": {},
   "outputs": [],
   "source": [
    "# Now we get the actors that are on our data set\n",
    "cast_list_movie = [] # Actors\n",
    "\n",
    "for listed_in in movies_cast['cast']:\n",
    "    split_cast = [x.strip() for x in listed_in.split(',')] # Split in list if there are more than one actor \n",
    "    # Save data\n",
    "    for j in range(len(split_cast)): \n",
    "        cast_list_movie.append(split_cast[j].strip()) "
   ]
  },
  {
   "cell_type": "code",
   "execution_count": null,
   "metadata": {},
   "outputs": [],
   "source": [
    "cast_list_movie"
   ]
  },
  {
   "cell_type": "markdown",
   "metadata": {},
   "source": [
    "#### Since the cast does not have an id number, we assigned it and make a dataframe with this information."
   ]
  },
  {
   "cell_type": "code",
   "execution_count": null,
   "metadata": {},
   "outputs": [],
   "source": [
    "# Define an array with numbers to asign as id to each actor/actress\n",
    "id_cast = np.arange(len(cast_list_movie))"
   ]
  },
  {
   "cell_type": "code",
   "execution_count": null,
   "metadata": {},
   "outputs": [],
   "source": [
    "# Dataframe from actors\n",
    "no_cast = pd.DataFrame({'id_cast': id_cast, 'actor_actress': cast_list_movie}).set_index('id_cast')\n",
    "no_cast"
   ]
  },
  {
   "cell_type": "markdown",
   "metadata": {},
   "source": [
    "#### The movie titles already have an id, so we only made the new dataframe."
   ]
  },
  {
   "cell_type": "code",
   "execution_count": null,
   "metadata": {},
   "outputs": [],
   "source": [
    "# The movie titles already have an ID so we only make a DF\n",
    "no_title = pd.DataFrame({'id_movie': movies_cast['show_id'], 'title': movies_cast['title']}).set_index('id_movie')\n",
    "no_title"
   ]
  },
  {
   "cell_type": "markdown",
   "metadata": {},
   "source": [
    "#### Now, we made a new dataframe based on the separated cast and their titles. We have a lot of repeated information in the dataframe but we get the results using this method."
   ]
  },
  {
   "cell_type": "code",
   "execution_count": null,
   "metadata": {},
   "outputs": [],
   "source": [
    "# Since we want to extract the actors and their movies, we are going to separate each each one and make a DB\n",
    "# Cast and respective movies\n",
    "ctemp = movies_cast['cast'].values\n",
    "ttemp = movies_cast['title'].values\n",
    "\n",
    "movie = []\n",
    "cast = []\n",
    "\n",
    "for i in range(len(ctemp)): # Row\n",
    "    cstmp=ctemp[i].split(',') # Separate the data if there is more than one actor\n",
    "    for k in range(len(cstmp)): # We analyze each actor in the selected row\n",
    "        # Append the movie and respective actor/actress\n",
    "        movie.append(ttemp[i])\n",
    "        cast.append(cstmp[k].strip())"
   ]
  },
  {
   "cell_type": "code",
   "execution_count": null,
   "metadata": {},
   "outputs": [],
   "source": [
    "# Make DB\n",
    "df_movie_cast = pd.DataFrame({'title': movie, 'actor_actress': cast}).set_index('actor_actress')\n",
    "df_movie_cast"
   ]
  },
  {
   "cell_type": "markdown",
   "metadata": {},
   "source": [
    "## Connect to local Database\n",
    "\n",
    "* To made our new database (with name of 'netflix_castmovie_db'), we used a connection to PostgreSQL, confirmed the tables are created and send the datasets we made before."
   ]
  },
  {
   "cell_type": "code",
   "execution_count": null,
   "metadata": {},
   "outputs": [],
   "source": [
    "# Create Database Connection\n",
    "connection_string = \"postgres:postgres@localhost:5432/netflix_castmovie_db\"\n",
    "engine = create_engine(f'postgresql://{connection_string}')"
   ]
  },
  {
   "cell_type": "code",
   "execution_count": null,
   "metadata": {},
   "outputs": [],
   "source": [
    "# Confirm tables\n",
    "engine.table_names()"
   ]
  },
  {
   "cell_type": "code",
   "execution_count": null,
   "metadata": {},
   "outputs": [],
   "source": [
    "# Since we already create de Tables in our query\n",
    "# Send data to SQL\n",
    "# This is for cast id\n",
    "no_cast.to_sql(name='no_cast', con=engine, if_exists='append', index=True)"
   ]
  },
  {
   "cell_type": "code",
   "execution_count": null,
   "metadata": {},
   "outputs": [],
   "source": [
    "# For titles id\n",
    "no_title.to_sql(name='no_title', con=engine, if_exists='append', index=True)"
   ]
  },
  {
   "cell_type": "code",
   "execution_count": null,
   "metadata": {},
   "outputs": [],
   "source": [
    "# And the cast separated with their respective movie titles.\n",
    "df_movie_cast.to_sql(name='title_cast', con=engine, if_exists='append', index=True)"
   ]
  },
  {
   "cell_type": "markdown",
   "metadata": {},
   "source": [
    "## Confirm data has been added by querying the tables.\n",
    "\n",
    "* In pgAdmin we confirmed that the data has been added to our new database called 'netflix cast id'. Here, we made a second check and visualize each actor and actress with all the movies they appear."
   ]
  },
  {
   "cell_type": "code",
   "execution_count": null,
   "metadata": {},
   "outputs": [],
   "source": [
    "netflix_casting = pd.read_sql_query('SELECT * FROM netflix_cast_id', con=engine)\n",
    "netflix_casting.head(10)"
   ]
  },
  {
   "cell_type": "code",
   "execution_count": null,
   "metadata": {},
   "outputs": [],
   "source": [
    "# If we want to know about a certain person...\n",
    "netflix_casting.loc[netflix_casting['actor_actress'] == 'Anthony Hopkins']"
   ]
  },
  {
   "cell_type": "code",
   "execution_count": null,
   "metadata": {},
   "outputs": [],
   "source": []
  }
 ],
 "metadata": {
  "kernelspec": {
   "display_name": "Python 3.7.4 64-bit ('base': conda)",
   "language": "python",
   "name": "python37464bitbasecondaf8a42dbeb68b43b8ab181bef94341f6a"
  },
  "language_info": {
   "codemirror_mode": {
    "name": "ipython",
    "version": 3
   },
   "file_extension": ".py",
   "mimetype": "text/x-python",
   "name": "python",
   "nbconvert_exporter": "python",
   "pygments_lexer": "ipython3",
   "version": "3.7.4"
  }
 },
 "nbformat": 4,
 "nbformat_minor": 2
}
